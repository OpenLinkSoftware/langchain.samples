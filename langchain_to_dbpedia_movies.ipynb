{
 "cells": [
  {
   "cell_type": "markdown",
   "id": "f0c6963a",
   "metadata": {},
   "source": [
    "You need install next packages before execute\n",
    "```\n",
    "$ pip install langchain-openai\n",
    "```\n",
    "\n",
    "Install patched version of `langchain` package:\n",
    "```\n",
    "$ git clone https://github.com/OpenLinkSoftware/langchain.git\n",
    "$ cd langchain/libs/langchain/\n",
    "$ pip install -e .\n",
    "```"
   ]
  },
  {
   "cell_type": "code",
   "execution_count": 1,
   "id": "ac1918ac",
   "metadata": {},
   "outputs": [],
   "source": [
    "import os\n",
    "os.environ[\"OPENAI_API_KEY\"] = \"{YOUR-OPENAI-API-KEY}\"\n",
    "\n",
    "\n",
    "from langchain_openai import ChatOpenAI\n",
    "from langchain_community.graphs import RdfGraph\n",
    "from langchain.chains import GraphSparqlQAChain\n",
    "\n",
    "graph = RdfGraph(query_endpoint=\"https://dbpedia.org/sparql\")\n",
    "\n",
    "chain = GraphSparqlQAChain.from_llm(\n",
    "    ChatOpenAI(model=\"gpt-3.5-turbo-1106\", temperature=0, verbose=True), graph=graph, verbose=True\n",
    "#    ChatOpenAI(model=\"gpt-4-0125-preview\", temperature=0, verbose=True), graph=graph, verbose=True\n",
    ")\n",
    "\n",
    "\n"
   ]
  },
  {
   "cell_type": "code",
   "execution_count": 2,
   "id": "9859d097",
   "metadata": {},
   "outputs": [
    {
     "name": "stdout",
     "output_type": "stream",
     "text": [
      "\n",
      "\n",
      "\u001b[1m> Entering new GraphSparqlQAChain chain...\u001b[0m\n",
      "Identified intent:\n",
      "\u001b[32;1m\u001b[1;3mSELECT\u001b[0m\n",
      "Generated SPARQL:\n",
      "\u001b[32;1m\u001b[1;3m```\n",
      "PREFIX dbr: <http://dbpedia.org/resource/>\n",
      "PREFIX dbo: <http://dbpedia.org/ontology/>\n",
      "PREFIX rdf: <http://www.w3.org/1999/02/22-rdf-syntax-ns#>\n",
      "SELECT ?movie\n",
      "WHERE {\n",
      "    ?movie rdf:type dbo:Film .\n",
      "    ?movie dbo:director dbr:Spike_Lee .\n",
      "}\n",
      "```\u001b[0m\n",
      "Full Context:\n",
      "\u001b[32;1m\u001b[1;3m[(rdflib.term.URIRef('http://dbpedia.org/resource/Rodney_King_(film)'),), (rdflib.term.URIRef('http://dbpedia.org/resource/School_Daze'),), (rdflib.term.URIRef('http://dbpedia.org/resource/BlacKkKlansman'),), (rdflib.term.URIRef('http://dbpedia.org/resource/Crooklyn'),), (rdflib.term.URIRef('http://dbpedia.org/resource/Clockers_(film)'),), (rdflib.term.URIRef('http://dbpedia.org/resource/Freak_(film)'),), (rdflib.term.URIRef('http://dbpedia.org/resource/Get_on_the_Bus'),), (rdflib.term.URIRef('http://dbpedia.org/resource/Girl_6'),), (rdflib.term.URIRef('http://dbpedia.org/resource/Miracle_at_St._Anna'),), (rdflib.term.URIRef(\"http://dbpedia.org/resource/Mo'_Better_Blues\"),), (rdflib.term.URIRef('http://dbpedia.org/resource/The_Original_Kings_of_Comedy'),), (rdflib.term.URIRef('http://dbpedia.org/resource/Malcolm_X_(1992_film)'),), (rdflib.term.URIRef('http://dbpedia.org/resource/Bad_25_(film)'),), (rdflib.term.URIRef('http://dbpedia.org/resource/Bamboozled'),), (rdflib.term.URIRef('http://dbpedia.org/resource/When_the_Levees_Broke'),), (rdflib.term.URIRef('http://dbpedia.org/resource/25th_Hour'),), (rdflib.term.URIRef('http://dbpedia.org/resource/4_Little_Girls'),), (rdflib.term.URIRef('http://dbpedia.org/resource/American_Utopia_(film)'),), (rdflib.term.URIRef('http://dbpedia.org/resource/Da_5_Bloods'),), (rdflib.term.URIRef('http://dbpedia.org/resource/Da_Sweet_Blood_of_Jesus'),), (rdflib.term.URIRef('http://dbpedia.org/resource/He_Got_Game'),), (rdflib.term.URIRef('http://dbpedia.org/resource/Sucker_Free_City'),), (rdflib.term.URIRef('http://dbpedia.org/resource/A_Huey_P._Newton_Story'),), (rdflib.term.URIRef('http://dbpedia.org/resource/Chi-Raq'),), (rdflib.term.URIRef('http://dbpedia.org/resource/Jim_Brown:_All-American'),), (rdflib.term.URIRef(\"http://dbpedia.org/resource/Joe's_Bed-Stuy_Barbershop:_We_Cut_Heads\"),), (rdflib.term.URIRef('http://dbpedia.org/resource/Jungle_Fever'),), (rdflib.term.URIRef('http://dbpedia.org/resource/Summer_of_Sam'),), (rdflib.term.URIRef('http://dbpedia.org/resource/Do_the_Right_Thing'),), (rdflib.term.URIRef(\"http://dbpedia.org/resource/Kobe_Doin'_Work\"),), (rdflib.term.URIRef(\"http://dbpedia.org/resource/Michael_Jackson's_Journey_from_Motown_to_Off_the_Wall\"),), (rdflib.term.URIRef('http://dbpedia.org/resource/Oldboy_(2013_film)'),), (rdflib.term.URIRef('http://dbpedia.org/resource/Red_Hook_Summer'),), (rdflib.term.URIRef(\"http://dbpedia.org/resource/She's_Gotta_Have_It\"),), (rdflib.term.URIRef('http://dbpedia.org/resource/She_Hate_Me'),), (rdflib.term.URIRef('http://dbpedia.org/resource/Pass_Over__Pass_Over__1'),), (rdflib.term.URIRef('http://dbpedia.org/resource/Inside_Man__Inside_Man__1'),), (rdflib.term.URIRef('http://dbpedia.org/resource/All_the_Invisible_Children__Jesus_Children_of_America__1'),)]\u001b[0m\n",
      "\n",
      "\u001b[1m> Finished chain.\u001b[0m\n",
      "Here is a list of movies directed by Spike Lee:\n",
      "- Rodney King (film)\n",
      "- School Daze\n",
      "- BlacKkKlansman\n",
      "- Crooklyn\n",
      "- Clockers (film)\n",
      "- Freak (film)\n",
      "- Get on the Bus\n",
      "- Girl 6\n",
      "- Miracle at St. Anna\n",
      "- Mo' Better Blues\n",
      "- The Original Kings of Comedy\n",
      "- Malcolm X (1992 film)\n",
      "- Bad 25 (film)\n",
      "- Bamboozled\n",
      "- When the Levees Broke\n",
      "- 25th Hour\n",
      "- 4 Little Girls\n",
      "- American Utopia (film)\n",
      "- Da 5 Bloods\n",
      "- Da Sweet Blood of Jesus\n",
      "- He Got Game\n",
      "- Sucker Free City\n",
      "- A Huey P. Newton Story\n",
      "- Chi-Raq\n",
      "- Jim Brown: All-American\n",
      "- Joe's Bed-Stuy Barbershop: We Cut Heads\n",
      "- Jungle Fever\n",
      "- Summer of Sam\n",
      "- Do the Right Thing\n",
      "- Kobe Doin' Work\n",
      "- Michael Jackson's Journey from Motown to Off the Wall\n",
      "- Oldboy (2013 film)\n",
      "- Red Hook Summer\n",
      "- She's Gotta Have It\n",
      "- She Hate Me\n",
      "- Pass Over\n",
      "- Inside Man\n",
      "- All the Invisible Children\n"
     ]
    }
   ],
   "source": [
    "query = \"\"\"\n",
    "Relevant DBpedia Knowledge Graph relationship types (relations):\n",
    "  ?movie rdf:type dbo:Film .\n",
    "  ?movie dbo:director ?name .\n",
    "\n",
    "Associated namespaces:\n",
    " dbr:  <http://dbpedia.org/resource/>\n",
    " dbo:  <http://dbpedia.org/ontology/>\n",
    " rdf:  <http://www.w3.org/1999/02/22-rdf-syntax-ns#>\n",
    "\n",
    "List movies by Spike Lee\n",
    "\"\"\"\n",
    "\n",
    "res = chain.invoke({chain.input_key: query})[chain.output_key]\n",
    "\n",
    "print(res)\n"
   ]
  }
 ],
 "metadata": {
  "kernelspec": {
   "display_name": "Python 3 (ipykernel)",
   "language": "python",
   "name": "python3"
  },
  "language_info": {
   "codemirror_mode": {
    "name": "ipython",
    "version": 3
   },
   "file_extension": ".py",
   "mimetype": "text/x-python",
   "name": "python",
   "nbconvert_exporter": "python",
   "pygments_lexer": "ipython3",
   "version": "3.11.7"
  }
 },
 "nbformat": 4,
 "nbformat_minor": 5
}
